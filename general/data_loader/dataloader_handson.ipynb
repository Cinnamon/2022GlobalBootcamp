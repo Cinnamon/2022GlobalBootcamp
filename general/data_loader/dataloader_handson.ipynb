{
  "nbformat": 4,
  "nbformat_minor": 0,
  "metadata": {
    "kernelspec": {
      "display_name": "Python 3",
      "language": "python",
      "name": "python3"
    },
    "language_info": {
      "codemirror_mode": {
        "name": "ipython",
        "version": 3
      },
      "file_extension": ".py",
      "mimetype": "text/x-python",
      "name": "python",
      "nbconvert_exporter": "python",
      "pygments_lexer": "ipython3",
      "version": "3.6.8"
    },
    "colab": {
      "name": "dataloader_handson.ipynb",
      "provenance": [],
      "collapsed_sections": []
    },
    "accelerator": "GPU"
  },
  "cells": [
    {
      "cell_type": "code",
      "metadata": {
        "id": "fmt0_KdcgcYQ"
      },
      "source": [
        "import numpy as np\n",
        "import time\n",
        "\n",
        "import torch\n",
        "import torch.nn as nn\n",
        "from torch import optim\n",
        "import torch.nn.functional as F\n",
        "import torchvision as tv"
      ],
      "execution_count": null,
      "outputs": []
    },
    {
      "cell_type": "code",
      "metadata": {
        "id": "4cg15oTysy9R",
        "colab": {
          "base_uri": "https://localhost:8080/",
          "height": 34
        },
        "outputId": "53e06756-edde-4cb5-a31c-922fa20c1d40"
      },
      "source": [
        "\"\"\"\n",
        "Create dummy dataset\n",
        "\"\"\"\n",
        "BATCH_SIZE = 512\n",
        "NUM_DATA = BATCH_SIZE * 10\n",
        "NUM_CLASSES = 10\n",
        "DIM = 100\n",
        "LR = 1e-2\n",
        "\n",
        "DEVICE = \"cpu\"\n",
        "if torch.cuda.is_available:\n",
        "    DEVICE = \"cuda:0\"\n",
        "\n",
        "dummy_data = np.random.normal(size=(NUM_DATA, DIM)).astype(np.float32)\n",
        "# (NUM_CLASS - 1e-10) is to avoid the random variable is 10.\n",
        "dummy_label = np.random.uniform(0, NUM_CLASSES - 1e-10, size=(NUM_DATA,)).astype(int) # \n",
        "\n",
        "print(dummy_data.shape, dummy_label.shape)\n"
      ],
      "execution_count": null,
      "outputs": [
        {
          "output_type": "stream",
          "text": [
            "(5120, 100) (5120,)\n"
          ],
          "name": "stdout"
        }
      ]
    },
    {
      "cell_type": "code",
      "metadata": {
        "id": "N5ja7DXZKgmC"
      },
      "source": [
        "class MyDataset(torch.utils.data.Dataset):\n",
        "    def __init__(self, data, transformations):\n",
        "        # data: which is composed of [xs, ys]\n",
        "        # where xs.shape = [size of total data, dimension]\n",
        "        # where ys.shape = [size of total data]\n",
        "\n",
        "        # transformations: [transformation] data augmentation for data\n",
        "\n",
        "        self.data = data\n",
        "        self.transformations = transformations\n",
        "\n",
        "        assert len(self.data) == len(self.transformations)\n",
        "\n",
        "    def __getitem__(self, index):\n",
        "        ### TODO\n",
        "        # Return the tuple of data given the index\n",
        "        # That is, (x, y)\n",
        "        # if transformation is not None\n",
        "        # data_ = transformation(data_)\n",
        "        raise NotImplementedError \n",
        "\n",
        "    def __len__(self):\n",
        "        ### TODO\n",
        "        # Return the size of the data\n",
        "        raise NotImplementedError"
      ],
      "execution_count": null,
      "outputs": []
    },
    {
      "cell_type": "code",
      "metadata": {
        "id": "HbptUzoVKiVp",
        "colab": {
          "base_uri": "https://localhost:8080/",
          "height": 345
        },
        "outputId": "38565999-5097-4c97-a710-10fc9dbed3fa"
      },
      "source": [
        "\"\"\"\n",
        "Dataset check\n",
        "\"\"\"\n",
        "def check_dataset():\n",
        "    dset = MyDataset([dummy_data, dummy_label], [None, None])\n",
        "    num_data = 0\n",
        "\n",
        "    for data_ in dset:\n",
        "        \n",
        "        input_, label_ = data_\n",
        "        assert input_.shape == (DIM, )\n",
        "\n",
        "        num_data += 1\n",
        "\n",
        "    assert num_data == dummy_data.shape[0], \"Implementation of __len__ might be wrong\"\n",
        "\n",
        "    print(\"pass DataSet check\")\n",
        "\n",
        "check_dataset()"
      ],
      "execution_count": null,
      "outputs": [
        {
          "output_type": "error",
          "ename": "NotImplementedError",
          "evalue": "ignored",
          "traceback": [
            "\u001b[0;31m---------------------------------------------------------------------------\u001b[0m",
            "\u001b[0;31mNotImplementedError\u001b[0m                       Traceback (most recent call last)",
            "\u001b[0;32m<ipython-input-4-7c9508e8ace7>\u001b[0m in \u001b[0;36m<module>\u001b[0;34m()\u001b[0m\n\u001b[1;32m     17\u001b[0m     \u001b[0mprint\u001b[0m\u001b[0;34m(\u001b[0m\u001b[0;34m\"pass DataSet check\"\u001b[0m\u001b[0;34m)\u001b[0m\u001b[0;34m\u001b[0m\u001b[0;34m\u001b[0m\u001b[0m\n\u001b[1;32m     18\u001b[0m \u001b[0;34m\u001b[0m\u001b[0m\n\u001b[0;32m---> 19\u001b[0;31m \u001b[0mcheck_dataset\u001b[0m\u001b[0;34m(\u001b[0m\u001b[0;34m)\u001b[0m\u001b[0;34m\u001b[0m\u001b[0;34m\u001b[0m\u001b[0m\n\u001b[0m",
            "\u001b[0;32m<ipython-input-4-7c9508e8ace7>\u001b[0m in \u001b[0;36mcheck_dataset\u001b[0;34m()\u001b[0m\n\u001b[1;32m      6\u001b[0m     \u001b[0mnum_data\u001b[0m \u001b[0;34m=\u001b[0m \u001b[0;36m0\u001b[0m\u001b[0;34m\u001b[0m\u001b[0;34m\u001b[0m\u001b[0m\n\u001b[1;32m      7\u001b[0m \u001b[0;34m\u001b[0m\u001b[0m\n\u001b[0;32m----> 8\u001b[0;31m     \u001b[0;32mfor\u001b[0m \u001b[0mdata_\u001b[0m \u001b[0;32min\u001b[0m \u001b[0mdset\u001b[0m\u001b[0;34m:\u001b[0m\u001b[0;34m\u001b[0m\u001b[0;34m\u001b[0m\u001b[0m\n\u001b[0m\u001b[1;32m      9\u001b[0m \u001b[0;34m\u001b[0m\u001b[0m\n\u001b[1;32m     10\u001b[0m         \u001b[0minput_\u001b[0m\u001b[0;34m,\u001b[0m \u001b[0mlabel_\u001b[0m \u001b[0;34m=\u001b[0m \u001b[0mdata_\u001b[0m\u001b[0;34m\u001b[0m\u001b[0;34m\u001b[0m\u001b[0m\n",
            "\u001b[0;32m<ipython-input-3-d2387a66358f>\u001b[0m in \u001b[0;36m__getitem__\u001b[0;34m(self, index)\u001b[0m\n\u001b[1;32m     16\u001b[0m         \u001b[0;31m# Return the tuple of data given the index\u001b[0m\u001b[0;34m\u001b[0m\u001b[0;34m\u001b[0m\u001b[0;34m\u001b[0m\u001b[0m\n\u001b[1;32m     17\u001b[0m         \u001b[0;31m# That is, (x, y)\u001b[0m\u001b[0;34m\u001b[0m\u001b[0;34m\u001b[0m\u001b[0;34m\u001b[0m\u001b[0m\n\u001b[0;32m---> 18\u001b[0;31m         \u001b[0;32mraise\u001b[0m \u001b[0mNotImplementedError\u001b[0m\u001b[0;34m\u001b[0m\u001b[0;34m\u001b[0m\u001b[0m\n\u001b[0m\u001b[1;32m     19\u001b[0m \u001b[0;34m\u001b[0m\u001b[0m\n\u001b[1;32m     20\u001b[0m     \u001b[0;32mdef\u001b[0m \u001b[0m__len__\u001b[0m\u001b[0;34m(\u001b[0m\u001b[0mself\u001b[0m\u001b[0;34m)\u001b[0m\u001b[0;34m:\u001b[0m\u001b[0;34m\u001b[0m\u001b[0;34m\u001b[0m\u001b[0m\n",
            "\u001b[0;31mNotImplementedError\u001b[0m: "
          ]
        }
      ]
    },
    {
      "cell_type": "code",
      "metadata": {
        "id": "X15GfH03SCrD"
      },
      "source": [
        "\"\"\"\n",
        "DataLoader implementation\n",
        "\"\"\"\n",
        "def getData_dataloader(x, y, batchSize):\n",
        "    # Return a dataloader object\n",
        "    x, y = torch.FloatTensor(x), torch.LongTensor(y)\n",
        "    \n",
        "    x_transformation = None\n",
        "\n",
        "    y_transformation = None\n",
        "\n",
        "    d = MyDataset([x, y], [x_transformation, y_transformation])\n",
        "\n",
        "    ### TODO \n",
        "    # Create a dataloader object and return it\n",
        "\n",
        "    raise NotImplementedError"
      ],
      "execution_count": null,
      "outputs": []
    },
    {
      "cell_type": "code",
      "metadata": {
        "id": "ZMD-XHj5R88F",
        "colab": {
          "base_uri": "https://localhost:8080/",
          "height": 311
        },
        "outputId": "664ba5d8-b84a-458e-ed0e-113575c06919"
      },
      "source": [
        "\"\"\"\n",
        "DataLoader check\n",
        "\"\"\"\n",
        "\n",
        "def check_dataloader():\n",
        "    dloader = getData_dataloader(dummy_data, dummy_label, 32)\n",
        "    num_data = 0\n",
        "\n",
        "    try:\n",
        "        for data_ in dloader:\n",
        "            \n",
        "            input_, label_ = data_\n",
        "\n",
        "            num_data += input_.shape[0]\n",
        "\n",
        "        assert num_data == dummy_data.shape[0], \"Implementation of __len__ might be wrong\"\n",
        "\n",
        "        print(\"pass DataLoader check\")\n",
        "\n",
        "    except IndexError:\n",
        "        # out of index in data loader\n",
        "        print(\"Implementation of __len__ might be wrong\")\n",
        "\n",
        "\n",
        "check_dataloader()"
      ],
      "execution_count": null,
      "outputs": [
        {
          "output_type": "error",
          "ename": "NotImplementedError",
          "evalue": "ignored",
          "traceback": [
            "\u001b[0;31m---------------------------------------------------------------------------\u001b[0m",
            "\u001b[0;31mNotImplementedError\u001b[0m                       Traceback (most recent call last)",
            "\u001b[0;32m<ipython-input-6-3ba4d0daf232>\u001b[0m in \u001b[0;36m<module>\u001b[0;34m()\u001b[0m\n\u001b[1;32m     23\u001b[0m \u001b[0;34m\u001b[0m\u001b[0m\n\u001b[1;32m     24\u001b[0m \u001b[0;34m\u001b[0m\u001b[0m\n\u001b[0;32m---> 25\u001b[0;31m \u001b[0mcheck_dataloader\u001b[0m\u001b[0;34m(\u001b[0m\u001b[0;34m)\u001b[0m\u001b[0;34m\u001b[0m\u001b[0;34m\u001b[0m\u001b[0m\n\u001b[0m",
            "\u001b[0;32m<ipython-input-6-3ba4d0daf232>\u001b[0m in \u001b[0;36mcheck_dataloader\u001b[0;34m()\u001b[0m\n\u001b[1;32m      4\u001b[0m \u001b[0;34m\u001b[0m\u001b[0m\n\u001b[1;32m      5\u001b[0m \u001b[0;32mdef\u001b[0m \u001b[0mcheck_dataloader\u001b[0m\u001b[0;34m(\u001b[0m\u001b[0;34m)\u001b[0m\u001b[0;34m:\u001b[0m\u001b[0;34m\u001b[0m\u001b[0;34m\u001b[0m\u001b[0m\n\u001b[0;32m----> 6\u001b[0;31m     \u001b[0mdloader\u001b[0m \u001b[0;34m=\u001b[0m \u001b[0mgetData_dataloader\u001b[0m\u001b[0;34m(\u001b[0m\u001b[0mdummy_data\u001b[0m\u001b[0;34m,\u001b[0m \u001b[0mdummy_label\u001b[0m\u001b[0;34m,\u001b[0m \u001b[0;36m32\u001b[0m\u001b[0;34m)\u001b[0m\u001b[0;34m\u001b[0m\u001b[0;34m\u001b[0m\u001b[0m\n\u001b[0m\u001b[1;32m      7\u001b[0m     \u001b[0mnum_data\u001b[0m \u001b[0;34m=\u001b[0m \u001b[0;36m0\u001b[0m\u001b[0;34m\u001b[0m\u001b[0;34m\u001b[0m\u001b[0m\n\u001b[1;32m      8\u001b[0m \u001b[0;34m\u001b[0m\u001b[0m\n",
            "\u001b[0;32m<ipython-input-5-1cfb003c4ea6>\u001b[0m in \u001b[0;36mgetData_dataloader\u001b[0;34m(x, y, batchSize)\u001b[0m\n\u001b[1;32m     15\u001b[0m     \u001b[0;31m# Create a dataloader object and return it\u001b[0m\u001b[0;34m\u001b[0m\u001b[0;34m\u001b[0m\u001b[0;34m\u001b[0m\u001b[0m\n\u001b[1;32m     16\u001b[0m \u001b[0;34m\u001b[0m\u001b[0m\n\u001b[0;32m---> 17\u001b[0;31m     \u001b[0;32mraise\u001b[0m \u001b[0mNotImplementedError\u001b[0m\u001b[0;34m\u001b[0m\u001b[0;34m\u001b[0m\u001b[0m\n\u001b[0m",
            "\u001b[0;31mNotImplementedError\u001b[0m: "
          ]
        }
      ]
    },
    {
      "cell_type": "code",
      "metadata": {
        "id": "CeGlvdEEvJi_",
        "colab": {
          "base_uri": "https://localhost:8080/",
          "height": 187
        },
        "outputId": "20bc400d-5133-4442-a60a-d7ccb92c0e4f"
      },
      "source": [
        "\"\"\"\n",
        "Model\n",
        "\"\"\"\n",
        "\n",
        "class BaseModel(nn.Module):\n",
        "    def __init__(self, input_size, num_classes):\n",
        "        super(BaseModel, self).__init__()\n",
        "        self.input_size = input_size\n",
        "\n",
        "        dim = 32\n",
        "        self.model = nn.Sequential(\n",
        "            nn.Linear(input_size, dim),\n",
        "            nn.ReLU(),\n",
        "            nn.Linear(dim, dim),\n",
        "            nn.ReLU(),\n",
        "            nn.Linear(dim, num_classes),\n",
        "        )\n",
        "\n",
        "    def forward(self, x):\n",
        "        return self.model(x)\n",
        "\n",
        "model = BaseModel(DIM, NUM_CLASSES).to(DEVICE)\n",
        "\n",
        "print(model)\n",
        "print(DEVICE)"
      ],
      "execution_count": null,
      "outputs": [
        {
          "output_type": "stream",
          "text": [
            "BaseModel(\n",
            "  (model): Sequential(\n",
            "    (0): Linear(in_features=100, out_features=32, bias=True)\n",
            "    (1): ReLU()\n",
            "    (2): Linear(in_features=32, out_features=32, bias=True)\n",
            "    (3): ReLU()\n",
            "    (4): Linear(in_features=32, out_features=10, bias=True)\n",
            "  )\n",
            ")\n",
            "cuda:0\n"
          ],
          "name": "stdout"
        }
      ]
    },
    {
      "cell_type": "code",
      "metadata": {
        "id": "Xxb5Luf8Z5rP"
      },
      "source": [
        "\"\"\"\n",
        "Create the optimizer and objective function\n",
        "\"\"\"\n",
        "loss_function = nn.CrossEntropyLoss()\n",
        "optimizer = optim.Adam(model.parameters(), lr=LR)\n",
        "\n",
        "\"\"\"\n",
        "Evaluation metrics\n",
        "\"\"\"\n",
        "from sklearn.metrics import roc_auc_score, accuracy_score, precision_score, recall_score\n",
        "\n",
        "def genMetrics(trueY, predY):\n",
        "    \"\"\"\n",
        "    Return acc and auc\n",
        "    \"\"\"\n",
        "    accuracy = accuracy_score(trueY, predY)\n",
        "    \n",
        "    return round(accuracy, 4)"
      ],
      "execution_count": null,
      "outputs": []
    },
    {
      "cell_type": "code",
      "metadata": {
        "id": "J4WsmeeZgcYs",
        "colab": {
          "base_uri": "https://localhost:8080/",
          "height": 202
        },
        "outputId": "2d44e242-5864-49f3-d8a0-34890a113f53"
      },
      "source": [
        "\"\"\"\n",
        "Data Module\n",
        "\"\"\" \n",
        "\n",
        "# Naive method\n",
        "def getData_naive(x, y, batchSize):\n",
        "    \"\"\"\n",
        "    Create a generator for loading data\n",
        "    \"\"\"\n",
        "\n",
        "    # shuffle the data\n",
        "    perm = np.arange(len(x))\n",
        "    np.random.shuffle(perm)\n",
        "    x = x[perm]\n",
        "    y = y[perm]\n",
        "\n",
        "    numBatches = len(x) // batchSize\n",
        "\n",
        "    x, y = torch.FloatTensor(x), torch.LongTensor(y)\n",
        "\n",
        "    for i in range(numBatches):\n",
        "        start = i * batchSize\n",
        "        end = start + batchSize\n",
        "        batchX = x[start: end]\n",
        "        batchY = y[start: end]\n",
        "\n",
        "        yield batchX, batchY\n",
        "\n",
        "###########################################################################################\n",
        "#### Start training\n",
        "###########################################################################################\n",
        "\n",
        "# You can use getData_naive to see the output of data\n",
        "getData = getData_dataloader\n",
        "\n",
        "# Decorator for computing time\n",
        "def print_time(func):\n",
        "    def decorated_func(*args, **kwargs):\n",
        "        s = time.time()\n",
        "        ret = func(*args, **kwargs)\n",
        "        e = time.time()\n",
        "\n",
        "        print(f\"spend {e - s:.3f} s\")\n",
        "        return ret\n",
        "\n",
        "    return decorated_func\n",
        "\n",
        "@print_time\n",
        "def train(train_data, epoch, model, loss_function, optimizer):\n",
        "    print(\"\\n\" + \"=\"*30 + \"TRAIN\" + \"=\"*30)\n",
        "    y_p = []\n",
        "    y_t = []\n",
        "    model.train()\n",
        "    avg_loss = 0.0\n",
        "    count = 0\n",
        "    # need a batch dataloader\n",
        "    for batch in getData(train_data[0], train_data[1], BATCH_SIZE):\n",
        "        input_data = batch[0].to(DEVICE)\n",
        "        target_data = batch[1].to(DEVICE)\n",
        "\n",
        "        y_pred = model(input_data)\n",
        "        print(y_pred.shape)\n",
        "        print(target_data.shape)\n",
        "        loss = loss_function(y_pred, target_data)\n",
        "\n",
        "        optimizer.zero_grad()\n",
        "        loss.backward()\n",
        "        optimizer.step()\n",
        "\n",
        "        avg_loss += loss.item()\n",
        "        #a better metric here\n",
        "        predictions = y_pred.data.max(1)[1].cpu().tolist()\n",
        "        y_p += predictions\n",
        "        y_t += target_data.tolist()\n",
        "        #a better metric here \n",
        "        count += 1\n",
        "        if count % 100 == 0:\n",
        "            print(f\"epoch: {epoch}, iterations: {count}, loss: {loss.item():.3f}\")\n",
        "\n",
        "    print(f\"the average loss after completion of {epoch} epochs is {avg_loss/count:.3f}\")\n",
        "    acc = genMetrics(y_t, y_p)\n",
        "    print(f\"acc: {acc:.3f}\")\n",
        "    print(\"=\"*60)\n",
        "\n",
        "epochs = 4\n",
        "for epoch in range(1, epochs+1):\n",
        "    train([dummy_data, dummy_label], epoch, model, loss_function, optimizer)\n"
      ],
      "execution_count": null,
      "outputs": [
        {
          "output_type": "error",
          "ename": "NameError",
          "evalue": "ignored",
          "traceback": [
            "\u001b[0;31m---------------------------------------------------------------------------\u001b[0m",
            "\u001b[0;31mNameError\u001b[0m                                 Traceback (most recent call last)",
            "\u001b[0;32m<ipython-input-7-21a1e0a24f80>\u001b[0m in \u001b[0;36m<module>\u001b[0;34m()\u001b[0m\n\u001b[1;32m     85\u001b[0m \u001b[0mepochs\u001b[0m \u001b[0;34m=\u001b[0m \u001b[0;36m4\u001b[0m\u001b[0;34m\u001b[0m\u001b[0;34m\u001b[0m\u001b[0m\n\u001b[1;32m     86\u001b[0m \u001b[0;32mfor\u001b[0m \u001b[0mepoch\u001b[0m \u001b[0;32min\u001b[0m \u001b[0mrange\u001b[0m\u001b[0;34m(\u001b[0m\u001b[0;36m1\u001b[0m\u001b[0;34m,\u001b[0m \u001b[0mepochs\u001b[0m\u001b[0;34m+\u001b[0m\u001b[0;36m1\u001b[0m\u001b[0;34m)\u001b[0m\u001b[0;34m:\u001b[0m\u001b[0;34m\u001b[0m\u001b[0;34m\u001b[0m\u001b[0m\n\u001b[0;32m---> 87\u001b[0;31m     \u001b[0mtrain\u001b[0m\u001b[0;34m(\u001b[0m\u001b[0;34m[\u001b[0m\u001b[0mdummy_data\u001b[0m\u001b[0;34m,\u001b[0m \u001b[0mdummy_label\u001b[0m\u001b[0;34m]\u001b[0m\u001b[0;34m,\u001b[0m \u001b[0mepoch\u001b[0m\u001b[0;34m,\u001b[0m \u001b[0mmodel\u001b[0m\u001b[0;34m,\u001b[0m \u001b[0mloss_function\u001b[0m\u001b[0;34m,\u001b[0m \u001b[0moptimizer\u001b[0m\u001b[0;34m)\u001b[0m\u001b[0;34m\u001b[0m\u001b[0;34m\u001b[0m\u001b[0m\n\u001b[0m",
            "\u001b[0;31mNameError\u001b[0m: name 'model' is not defined"
          ]
        }
      ]
    },
    {
      "cell_type": "code",
      "metadata": {
        "id": "OY1HXRN6XcVv"
      },
      "source": [
        ""
      ],
      "execution_count": null,
      "outputs": []
    }
  ]
}