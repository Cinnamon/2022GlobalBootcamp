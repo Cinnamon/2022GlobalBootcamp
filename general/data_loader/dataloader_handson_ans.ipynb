{
  "nbformat": 4,
  "nbformat_minor": 0,
  "metadata": {
    "kernelspec": {
      "display_name": "Python 3",
      "language": "python",
      "name": "python3"
    },
    "language_info": {
      "codemirror_mode": {
        "name": "ipython",
        "version": 3
      },
      "file_extension": ".py",
      "mimetype": "text/x-python",
      "name": "python",
      "nbconvert_exporter": "python",
      "pygments_lexer": "ipython3",
      "version": "3.6.8"
    },
    "colab": {
      "name": "dataloader_handson_ans.ipynb",
      "provenance": [],
      "collapsed_sections": []
    },
    "accelerator": "GPU"
  },
  "cells": [
    {
      "cell_type": "code",
      "metadata": {
        "id": "fmt0_KdcgcYQ"
      },
      "source": [
        "import numpy as np\n",
        "import time\n",
        "\n",
        "import torch\n",
        "import torch.nn as nn\n",
        "from torch import optim\n",
        "import torch.nn.functional as F\n",
        "import torchvision as tv"
      ],
      "execution_count": null,
      "outputs": []
    },
    {
      "cell_type": "code",
      "metadata": {
        "id": "4cg15oTysy9R",
        "colab": {
          "base_uri": "https://localhost:8080/",
          "height": 51
        },
        "outputId": "1cd00f8b-b87e-42d1-c9cb-941f1d4bc89d"
      },
      "source": [
        "\"\"\"\n",
        "Create dummy dataset\n",
        "\"\"\"\n",
        "BATCH_SIZE = 512\n",
        "NUM_DATA = BATCH_SIZE * 10\n",
        "NUM_CLASSES = 10\n",
        "DIM = 100\n",
        "LR = 1e-2\n",
        "\n",
        "DEVICE = \"cpu\"\n",
        "if torch.cuda.is_available():\n",
        "    DEVICE = \"cuda:0\"\n",
        "\n",
        "dummy_data = np.random.normal(size=(NUM_DATA, DIM)).astype(np.float32)\n",
        "# (NUM_CLASS - 1e-10) is to avoid the random variable is 10.\n",
        "dummy_label = np.random.uniform(0, NUM_CLASSES - 1e-10, size=(NUM_DATA,)).astype(int) # \n",
        "\n",
        "print(dummy_data.shape, dummy_label.shape)\n",
        "\n",
        "print(DEVICE)\n"
      ],
      "execution_count": null,
      "outputs": [
        {
          "output_type": "stream",
          "text": [
            "(5120, 100) (5120,)\n",
            "cuda:0\n"
          ],
          "name": "stdout"
        }
      ]
    },
    {
      "cell_type": "code",
      "metadata": {
        "id": "N5ja7DXZKgmC"
      },
      "source": [
        "\"\"\"\n",
        "Dataset implementation\n",
        "\"\"\"\n",
        "class MyDataset(torch.utils.data.Dataset):\n",
        "    def __init__(self, data, transformations):\n",
        "        # data is composed of [xs, ys]\n",
        "        # where xs.shape = [size of total data, dimension]\n",
        "        # where ys.shape = [size of total data]\n",
        "\n",
        "        # transformations: [transformation] data augmentation for data\n",
        "        # transformations[0](data)\n",
        "        self.data = data\n",
        "        self.transformations = transformations\n",
        "\n",
        "        assert len(self.data) == len(self.transformations)\n",
        "\n",
        "    def __getitem__(self, index):\n",
        "        return tuple(transformation(data_[index]) if transformation else data_[index] \n",
        "                     for data_, transformation in zip(self.data, self.transformations))\n",
        "\n",
        "    def __len__(self):\n",
        "        return self.data[0].shape[0]"
      ],
      "execution_count": null,
      "outputs": []
    },
    {
      "cell_type": "code",
      "metadata": {
        "id": "HbptUzoVKiVp",
        "colab": {
          "base_uri": "https://localhost:8080/",
          "height": 34
        },
        "outputId": "e3149922-d092-42b8-ef1d-126ef5cb54f7"
      },
      "source": [
        "\"\"\"\n",
        "Dataset check\n",
        "\"\"\"\n",
        "def check_dataset():\n",
        "    dset = MyDataset([dummy_data, dummy_label], [None, None])\n",
        "    # transformations[0] for dummy_data\n",
        "    # transformations[1] for dummy_label\n",
        "    num_data = 0\n",
        "\n",
        "    for data_ in dset:\n",
        "        \n",
        "        input_, label_ = data_\n",
        "        assert input_.shape == (DIM, )\n",
        "\n",
        "        num_data += 1\n",
        "\n",
        "    assert num_data == dummy_data.shape[0], \"Implementation of __len__ might be wrong\"\n",
        "\n",
        "    print(\"pass DataSet check\")\n",
        "\n",
        "check_dataset()"
      ],
      "execution_count": null,
      "outputs": [
        {
          "output_type": "stream",
          "text": [
            "pass DataSet check\n"
          ],
          "name": "stdout"
        }
      ]
    },
    {
      "cell_type": "code",
      "metadata": {
        "id": "JvDXs1uwNqBV"
      },
      "source": [
        "\"\"\"\n",
        "DataLoader implementation\n",
        "\"\"\"\n",
        "def getData_dataloader(x, y, batchSize):\n",
        "    # Return a dataloader object\n",
        "    x, y = torch.FloatTensor(x), torch.LongTensor(y)\n",
        "    \n",
        "    x_transformation = None\n",
        "\n",
        "    y_transformation = None\n",
        "\n",
        "    d = MyDataset([x, y], [x_transformation, y_transformation])\n",
        "\n",
        "    ### TODO \n",
        "    # Create a dataloader object and return it\n",
        "\n",
        "    return torch.utils.data.DataLoader(d, batch_size=batchSize, shuffle=True, num_workers=2)\n"
      ],
      "execution_count": null,
      "outputs": []
    },
    {
      "cell_type": "code",
      "metadata": {
        "id": "8EMcx7t4N_qs",
        "colab": {
          "base_uri": "https://localhost:8080/",
          "height": 34
        },
        "outputId": "9e3d76f1-8bf9-4407-ce10-4a898e0fe140"
      },
      "source": [
        "\"\"\"\n",
        "DataLoader check\n",
        "\"\"\"\n",
        "\n",
        "def check_dataloader():\n",
        "    dloader = getData_dataloader(dummy_data, dummy_label, 32)\n",
        "    num_data = 0\n",
        "\n",
        "    try:\n",
        "        for data_ in dloader:\n",
        "            \n",
        "            input_, label_ = data_\n",
        "\n",
        "            num_data += input_.shape[0]\n",
        "\n",
        "        assert num_data == dummy_data.shape[0], \"Implementation of __len__ might be wrong\"\n",
        "\n",
        "        print(\"pass DataLoader check\")\n",
        "\n",
        "    except IndexError:\n",
        "        # out of index in data loader\n",
        "        print(\"Implementation of __len__ might be wrong\")\n",
        "\n",
        "\n",
        "check_dataloader()"
      ],
      "execution_count": null,
      "outputs": [
        {
          "output_type": "stream",
          "text": [
            "pass DataLoader check\n"
          ],
          "name": "stdout"
        }
      ]
    },
    {
      "cell_type": "code",
      "metadata": {
        "id": "CeGlvdEEvJi_",
        "colab": {
          "base_uri": "https://localhost:8080/",
          "height": 187
        },
        "outputId": "20bc400d-5133-4442-a60a-d7ccb92c0e4f"
      },
      "source": [
        "\"\"\"\n",
        "Model\n",
        "\"\"\"\n",
        "\n",
        "class BaseModel(nn.Module):\n",
        "    def __init__(self, input_size, num_classes):\n",
        "        super(BaseModel, self).__init__()\n",
        "        self.input_size = input_size\n",
        "\n",
        "        dim = 32\n",
        "        self.model = nn.Sequential(\n",
        "            nn.Linear(input_size, dim),\n",
        "            nn.ReLU(),\n",
        "            nn.Linear(dim, dim),\n",
        "            nn.ReLU(),\n",
        "            nn.Linear(dim, num_classes),\n",
        "        )\n",
        "\n",
        "    def forward(self, x):\n",
        "        return self.model(x)\n",
        "\n",
        "model = BaseModel(DIM, NUM_CLASSES).to(DEVICE)\n",
        "\n",
        "print(model)\n",
        "print(DEVICE)"
      ],
      "execution_count": null,
      "outputs": [
        {
          "output_type": "stream",
          "text": [
            "BaseModel(\n",
            "  (model): Sequential(\n",
            "    (0): Linear(in_features=100, out_features=32, bias=True)\n",
            "    (1): ReLU()\n",
            "    (2): Linear(in_features=32, out_features=32, bias=True)\n",
            "    (3): ReLU()\n",
            "    (4): Linear(in_features=32, out_features=10, bias=True)\n",
            "  )\n",
            ")\n",
            "cuda:0\n"
          ],
          "name": "stdout"
        }
      ]
    },
    {
      "cell_type": "code",
      "metadata": {
        "id": "Xxb5Luf8Z5rP"
      },
      "source": [
        "\"\"\"\n",
        "Create the optimizer and objective function\n",
        "\"\"\"\n",
        "loss_function = nn.CrossEntropyLoss()\n",
        "optimizer = optim.Adam(model.parameters(), lr=LR)\n",
        "\n",
        "\"\"\"\n",
        "Evaluation metrics\n",
        "\"\"\"\n",
        "from sklearn.metrics import roc_auc_score, accuracy_score, precision_score, recall_score\n",
        "\n",
        "def genMetrics(trueY, predY):\n",
        "    \"\"\"\n",
        "    Return acc and auc\n",
        "    \"\"\"\n",
        "    accuracy = accuracy_score(trueY, predY)\n",
        "    \n",
        "    return round(accuracy, 4)"
      ],
      "execution_count": null,
      "outputs": []
    },
    {
      "cell_type": "code",
      "metadata": {
        "id": "J4WsmeeZgcYs",
        "colab": {
          "base_uri": "https://localhost:8080/",
          "height": 1000
        },
        "outputId": "9ce80cd5-ea05-4e7f-de71-04d58332f392"
      },
      "source": [
        "\"\"\"\n",
        "Data Module\n",
        "\"\"\" \n",
        "\n",
        "# Naive method\n",
        "def getData_naive(x, y, batchSize):\n",
        "    \"\"\"\n",
        "    Create a generator for loading data\n",
        "    \"\"\"\n",
        "\n",
        "    # shuffle the data\n",
        "    perm = np.arange(len(x))\n",
        "    np.random.shuffle(perm)\n",
        "    x = x[perm]\n",
        "    y = y[perm]\n",
        "\n",
        "    numBatches = len(x) // batchSize\n",
        "\n",
        "    x, y = torch.FloatTensor(x), torch.LongTensor(y)\n",
        "\n",
        "    for i in range(numBatches):\n",
        "        start = i * batchSize\n",
        "        end = start + batchSize\n",
        "        batchX = x[start: end]\n",
        "        batchY = y[start: end]\n",
        "\n",
        "        yield batchX, batchY\n",
        "\n",
        "###########################################################################################\n",
        "#### Start training\n",
        "###########################################################################################\n",
        "\n",
        "# You can use getData_naive to see the output of data\n",
        "getData = getData_naive\n",
        "\n",
        "# Decorator for computing time\n",
        "def print_time(func):\n",
        "    def decorated_func(*args, **kwargs):\n",
        "        s = time.time()\n",
        "        ret = func(*args, **kwargs)\n",
        "        e = time.time()\n",
        "\n",
        "        print(f\"spend {e - s:.3f} s\")\n",
        "        return ret\n",
        "\n",
        "    return decorated_func\n",
        "\n",
        "@print_time\n",
        "def train(train_data, epoch, model, loss_function, optimizer):\n",
        "    print(\"\\n\" + \"=\"*30 + \"TRAIN\" + \"=\"*30)\n",
        "    y_p = []\n",
        "    y_t = []\n",
        "    model.train()\n",
        "    avg_loss = 0.0\n",
        "    count = 0\n",
        "\n",
        "    # need a batch dataloader\n",
        "    for batch in getData(train_data[0], train_data[1], BATCH_SIZE):\n",
        "        input_data = batch[0].to(DEVICE)\n",
        "        target_data = batch[1].to(DEVICE)\n",
        "\n",
        "        y_pred = model(input_data)\n",
        "        print(y_pred.shape)\n",
        "        print(target_data.shape)\n",
        "        loss = loss_function(y_pred, target_data)\n",
        "\n",
        "        optimizer.zero_grad()\n",
        "        loss.backward()\n",
        "        optimizer.step()\n",
        "\n",
        "        avg_loss += loss.item()\n",
        "        #a better metric here\n",
        "        predictions = y_pred.data.max(1)[1].cpu().tolist()\n",
        "        y_p += predictions\n",
        "        y_t += target_data.tolist()\n",
        "        #a better metric here \n",
        "        count += 1\n",
        "        if count % 100 == 0:\n",
        "            print(f\"epoch: {epoch}, iterations: {count}, loss: {loss.item():.3f}\")\n",
        "\n",
        "    print(f\"the average loss after completion of {epoch} epochs is {avg_loss/count:.3f}\")\n",
        "    acc = genMetrics(y_t, y_p)\n",
        "    print(f\"acc: {acc:.3f}\")\n",
        "    print(\"=\"*60)\n",
        "\n",
        "epochs = 4\n",
        "for epoch in range(1, epochs+1):\n",
        "    train([dummy_data, dummy_label], epoch, model, loss_function, optimizer)\n"
      ],
      "execution_count": null,
      "outputs": [
        {
          "output_type": "stream",
          "text": [
            "\n",
            "==============================TRAIN==============================\n",
            "torch.Size([512, 10])\n",
            "torch.Size([512])\n",
            "torch.Size([512, 10])\n",
            "torch.Size([512])\n",
            "torch.Size([512, 10])\n",
            "torch.Size([512])\n",
            "torch.Size([512, 10])\n",
            "torch.Size([512])\n",
            "torch.Size([512, 10])\n",
            "torch.Size([512])\n",
            "torch.Size([512, 10])\n",
            "torch.Size([512])\n",
            "torch.Size([512, 10])\n",
            "torch.Size([512])\n",
            "torch.Size([512, 10])\n",
            "torch.Size([512])\n",
            "torch.Size([512, 10])\n",
            "torch.Size([512])\n",
            "torch.Size([512, 10])\n",
            "torch.Size([512])\n",
            "the average loss after completion of 1 epochs is 2.309\n",
            "acc: 0.101\n",
            "============================================================\n",
            "spend 0.028 s\n",
            "\n",
            "==============================TRAIN==============================\n",
            "torch.Size([512, 10])\n",
            "torch.Size([512])\n",
            "torch.Size([512, 10])\n",
            "torch.Size([512])\n",
            "torch.Size([512, 10])\n",
            "torch.Size([512])\n",
            "torch.Size([512, 10])\n",
            "torch.Size([512])\n",
            "torch.Size([512, 10])\n",
            "torch.Size([512])\n",
            "torch.Size([512, 10])\n",
            "torch.Size([512])\n",
            "torch.Size([512, 10])\n",
            "torch.Size([512])\n",
            "torch.Size([512, 10])\n",
            "torch.Size([512])\n",
            "torch.Size([512, 10])\n",
            "torch.Size([512])\n",
            "torch.Size([512, 10])\n",
            "torch.Size([512])\n",
            "the average loss after completion of 2 epochs is 2.279\n",
            "acc: 0.154\n",
            "============================================================\n",
            "spend 0.025 s\n",
            "\n",
            "==============================TRAIN==============================\n",
            "torch.Size([512, 10])\n",
            "torch.Size([512])\n",
            "torch.Size([512, 10])\n",
            "torch.Size([512])\n",
            "torch.Size([512, 10])\n",
            "torch.Size([512])\n",
            "torch.Size([512, 10])\n",
            "torch.Size([512])\n",
            "torch.Size([512, 10])\n",
            "torch.Size([512])\n",
            "torch.Size([512, 10])\n",
            "torch.Size([512])\n",
            "torch.Size([512, 10])\n",
            "torch.Size([512])\n",
            "torch.Size([512, 10])\n",
            "torch.Size([512])\n",
            "torch.Size([512, 10])\n",
            "torch.Size([512])\n",
            "torch.Size([512, 10])\n",
            "torch.Size([512])\n",
            "the average loss after completion of 3 epochs is 2.242\n",
            "acc: 0.178\n",
            "============================================================\n",
            "spend 0.024 s\n",
            "\n",
            "==============================TRAIN==============================\n",
            "torch.Size([512, 10])\n",
            "torch.Size([512])\n",
            "torch.Size([512, 10])\n",
            "torch.Size([512])\n",
            "torch.Size([512, 10])\n",
            "torch.Size([512])\n",
            "torch.Size([512, 10])\n",
            "torch.Size([512])\n",
            "torch.Size([512, 10])\n",
            "torch.Size([512])\n",
            "torch.Size([512, 10])\n",
            "torch.Size([512])\n",
            "torch.Size([512, 10])\n",
            "torch.Size([512])\n",
            "torch.Size([512, 10])\n",
            "torch.Size([512])\n",
            "torch.Size([512, 10])\n",
            "torch.Size([512])\n",
            "torch.Size([512, 10])\n",
            "torch.Size([512])\n",
            "the average loss after completion of 4 epochs is 2.189\n",
            "acc: 0.199\n",
            "============================================================\n",
            "spend 0.027 s\n"
          ],
          "name": "stdout"
        }
      ]
    },
    {
      "cell_type": "code",
      "metadata": {
        "id": "OY1HXRN6XcVv"
      },
      "source": [
        ""
      ],
      "execution_count": null,
      "outputs": []
    }
  ]
}