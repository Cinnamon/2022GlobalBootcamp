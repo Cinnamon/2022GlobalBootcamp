{
  "nbformat": 4,
  "nbformat_minor": 0,
  "metadata": {
    "kernelspec": {
      "display_name": "Python 3",
      "language": "python",
      "name": "python3"
    },
    "language_info": {
      "codemirror_mode": {
        "name": "ipython",
        "version": 3
      },
      "file_extension": ".py",
      "mimetype": "text/x-python",
      "name": "python",
      "nbconvert_exporter": "python",
      "pygments_lexer": "ipython3",
      "version": "3.6.7"
    },
    "colab": {
      "name": "BootCamp - Metrics - Normalised DCG",
      "provenance": [],
      "collapsed_sections": []
    },
    "accelerator": "GPU"
  },
  "cells": [
    {
      "cell_type": "markdown",
      "metadata": {
        "id": "XhTaXwCKVdnS"
      },
      "source": [
        "# First things first\n",
        "* Click **File -> Save a copy in Drive** and click **Open in new tab** in the pop-up window to save your progress in Google Drive.\n",
        "* Click **Runtime -> Change runtime type** and select **GPU** in Hardware accelerator box to enable faster GPU training.\n"
      ]
    },
    {
      "cell_type": "markdown",
      "metadata": {
        "id": "7lPOwDG-Spr7"
      },
      "source": [
        "# If you're using Colab notebook.\n"
      ]
    },
    {
      "cell_type": "code",
      "metadata": {
        "id": "BsUOKuh2Sse3"
      },
      "source": [
        "try:\n",
        "    import google.colab\n",
        "    from google.colab.output import clear as clear_output\n",
        "    IN_COLAB = True\n",
        "except:\n",
        "    IN_COLAB = False\n",
        "    from IPython.display import clear_output as clear_output\n",
        "\n"
      ],
      "execution_count": null,
      "outputs": []
    },
    {
      "cell_type": "code",
      "metadata": {
        "id": "9kShej8cgz-5"
      },
      "source": [
        "# import required package\n",
        "from sklearn.metrics import ndcg_score, dcg_score\n",
        "import numpy as np"
      ],
      "execution_count": null,
      "outputs": []
    },
    {
      "cell_type": "code",
      "metadata": {
        "id": "S4nEQUToo70D"
      },
      "source": [
        "# Draw random data.\n",
        "n = 20\n",
        "draw_score = lambda up: np.random.randint(0, up, size=(1, n))\n"
      ],
      "execution_count": null,
      "outputs": []
    },
    {
      "cell_type": "code",
      "metadata": {
        "id": "O9kB_X0Kg6JY",
        "colab": {
          "base_uri": "https://localhost:8080/"
        },
        "outputId": "4c171949-577f-43f4-b908-8d0ea979f3ac"
      },
      "source": [
        "# Releveance scores in output order \n",
        "relevance_score = draw_score(30)\n",
        "\n",
        "# Releveance scores in Ideal order \n",
        "ideal_relevance = -np.sort(-relevance_score)\n",
        "\n",
        "print(relevance_score, ideal_relevance, sep=\"\\n\")"
      ],
      "execution_count": null,
      "outputs": [
        {
          "output_type": "stream",
          "name": "stdout",
          "text": [
            "[[19 13  1 24 28 12 21 24  0 17  9 18 19 18 10  1  7  6 18 17]]\n",
            "[[28 24 24 21 19 19 18 18 18 17 17 13 12 10  9  7  6  1  1  0]]\n"
          ]
        }
      ]
    },
    {
      "cell_type": "code",
      "metadata": {
        "id": "OQ3QYVVOm8cx"
      },
      "source": [
        ""
      ],
      "execution_count": null,
      "outputs": []
    },
    {
      "cell_type": "code",
      "metadata": {
        "id": "0MGugDGkiqcP",
        "colab": {
          "base_uri": "https://localhost:8080/"
        },
        "outputId": "04f68283-0cd9-48b5-a181-675ffdadc4b9"
      },
      "source": [
        "# Cumulative Gain\n",
        "cg = np.sum(relevance_score)\n",
        "cg\n"
      ],
      "execution_count": null,
      "outputs": [
        {
          "output_type": "execute_result",
          "data": {
            "text/plain": [
              "282"
            ]
          },
          "metadata": {},
          "execution_count": 11
        }
      ]
    },
    {
      "cell_type": "code",
      "metadata": {
        "id": "PdyzVcBGkmWD"
      },
      "source": [
        "def dcg_function(score):\n",
        "    \"\"\"\n",
        "      score: np array of relevance score.\n",
        "      returns: Discounted Cumulative Gain, float.\n",
        "    \"\"\"\n",
        "    # Generated the log2([2 ..... n+1])\n",
        "    x = np.asarray(range(score.shape[-1])) + 2\n",
        "\n",
        "    # Divided the score by log value, sum and return.\n",
        "    return np.sum(score / np.log2(x))"
      ],
      "execution_count": null,
      "outputs": []
    },
    {
      "cell_type": "code",
      "metadata": {
        "id": "1s_KnxaFi1rX",
        "colab": {
          "base_uri": "https://localhost:8080/"
        },
        "outputId": "8812741a-a2a3-4fbc-fc74-34a7bc65af50"
      },
      "source": [
        "# Discounted Cumulative gain\n",
        "dcg = dcg_function(relevance_score)\n",
        "\n",
        "# Ideal Discounted Cumulative gain\n",
        "idcg = dcg_function(ideal_relevance)\n",
        "\n",
        "dcg, idcg\n"
      ],
      "execution_count": null,
      "outputs": [
        {
          "output_type": "execute_result",
          "data": {
            "text/plain": [
              "(103.4733003841695, 120.15038792219543)"
            ]
          },
          "metadata": {},
          "execution_count": 12
        }
      ]
    },
    {
      "cell_type": "code",
      "metadata": {
        "id": "4ujifIA2hcZz",
        "colab": {
          "base_uri": "https://localhost:8080/"
        },
        "outputId": "b7bc9ef2-0e57-4971-cc8a-149fe91f012f"
      },
      "source": [
        "ndcg = dcg / idcg\n",
        "ndcg\n"
      ],
      "execution_count": null,
      "outputs": [
        {
          "output_type": "execute_result",
          "data": {
            "text/plain": [
              "0.8611982214420703"
            ]
          },
          "metadata": {},
          "execution_count": 13
        }
      ]
    },
    {
      "cell_type": "markdown",
      "metadata": {
        "id": "wsNkLwIfxcxf"
      },
      "source": [
        "# Compare with package functions value.\n",
        "\n",
        "\n"
      ]
    },
    {
      "cell_type": "code",
      "metadata": {
        "id": "-UJXAk-cxcxg",
        "colab": {
          "base_uri": "https://localhost:8080/"
        },
        "outputId": "70211687-7f74-47fd-c154-1fcdd3b8aead"
      },
      "source": [
        "# DCG score \n",
        "dcg = dcg_score(ideal_relevance, relevance_score) \n",
        "print(\"DCG score : \", dcg) \n",
        "   \n",
        "# IDCG score \n",
        "idcg = dcg_score(ideal_relevance, ideal_relevance) \n",
        "print(\"IDCG score : \", idcg) \n",
        "   \n",
        "# Normalized DCG score \n",
        "ndcg = dcg / idcg\n",
        "print(\"nDCG score : \", ndcg) \n",
        "   \n",
        "# or we can use the scikit-learn ndcg_score package \n",
        "print(\"nDCG score (from package function) : \",\n",
        "      ndcg_score(ideal_relevance, relevance_score)) "
      ],
      "execution_count": null,
      "outputs": [
        {
          "output_type": "stream",
          "name": "stdout",
          "text": [
            "DCG score :  107.16385958704925\n",
            "IDCG score :  120.15038792219543\n",
            "nDCG score :  0.8919143869634799\n",
            "nDCG score (from package function) :  0.89191438696348\n"
          ]
        }
      ]
    },
    {
      "cell_type": "code",
      "metadata": {
        "id": "Lov3hRouhOjS"
      },
      "source": [
        ""
      ],
      "execution_count": null,
      "outputs": []
    }
  ]
}