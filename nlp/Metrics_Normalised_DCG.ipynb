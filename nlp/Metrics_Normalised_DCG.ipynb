{
  "nbformat": 4,
  "nbformat_minor": 0,
  "metadata": {
    "kernelspec": {
      "display_name": "Python 3",
      "language": "python",
      "name": "python3"
    },
    "language_info": {
      "codemirror_mode": {
        "name": "ipython",
        "version": 3
      },
      "file_extension": ".py",
      "mimetype": "text/x-python",
      "name": "python",
      "nbconvert_exporter": "python",
      "pygments_lexer": "ipython3",
      "version": "3.6.7"
    },
    "colab": {
      "name": "BootCamp - Metrics - Normalised DCG",
      "provenance": [],
      "collapsed_sections": []
    },
    "accelerator": "GPU"
  },
  "cells": [
    {
      "cell_type": "markdown",
      "metadata": {
        "id": "XhTaXwCKVdnS"
      },
      "source": [
        "# First things first\n",
        "* Click **File -> Save a copy in Drive** and click **Open in new tab** in the pop-up window to save your progress in Google Drive.\n",
        "* Click **Runtime -> Change runtime type** and select **GPU** in Hardware accelerator box to enable faster GPU training.\n"
      ]
    },
    {
      "cell_type": "markdown",
      "metadata": {
        "id": "7lPOwDG-Spr7"
      },
      "source": [
        "# If you're using Colab notebook.\n"
      ]
    },
    {
      "cell_type": "code",
      "metadata": {
        "id": "BsUOKuh2Sse3"
      },
      "source": [
        "try:\n",
        "    import google.colab\n",
        "    from google.colab.output import clear as clear_output\n",
        "    IN_COLAB = True\n",
        "except:\n",
        "    IN_COLAB = False\n",
        "    from IPython.display import clear_output as clear_output\n",
        "\n"
      ],
      "execution_count": 1,
      "outputs": []
    },
    {
      "cell_type": "code",
      "metadata": {
        "id": "9kShej8cgz-5"
      },
      "source": [
        "# import required package\n",
        "from sklearn.metrics import ndcg_score, dcg_score\n",
        "import numpy as np"
      ],
      "execution_count": 2,
      "outputs": []
    },
    {
      "cell_type": "code",
      "metadata": {
        "id": "S4nEQUToo70D"
      },
      "source": [
        "# Draw random data.\n",
        "n = 20\n",
        "draw_score = lambda up: np.random.randint(0, up, size=(1, n))\n",
        "draw_score = lambda up: np.random.choice(up, size=(1, n))\n"
      ],
      "execution_count": 3,
      "outputs": []
    },
    {
      "cell_type": "code",
      "metadata": {
        "id": "O9kB_X0Kg6JY",
        "colab": {
          "base_uri": "https://localhost:8080/"
        },
        "outputId": "045ab859-58fe-490f-ec42-5d0d42f18ef3"
      },
      "source": [
        "# Releveance scores in output order \n",
        "relevance_score = draw_score(100)\n",
        "\n",
        "# Releveance scores in Ideal order \n",
        "ideal_relevance = -np.sort(-relevance_score)\n",
        "\n",
        "print(relevance_score, ideal_relevance, sep=\"\\n\")"
      ],
      "execution_count": 4,
      "outputs": [
        {
          "output_type": "stream",
          "name": "stdout",
          "text": [
            "[[72 21 69 64 66  8 32 51 15 24  1 33 13 42  8 88 52 75 20 61]]\n",
            "[[88 75 72 69 66 64 61 52 51 42 33 32 24 21 20 15 13  8  8  1]]\n"
          ]
        }
      ]
    },
    {
      "cell_type": "code",
      "metadata": {
        "id": "OQ3QYVVOm8cx"
      },
      "source": [
        ""
      ],
      "execution_count": 4,
      "outputs": []
    },
    {
      "cell_type": "code",
      "metadata": {
        "id": "0MGugDGkiqcP",
        "colab": {
          "base_uri": "https://localhost:8080/"
        },
        "outputId": "9c5bbab5-cf34-4226-9615-1dfeb46bf34f"
      },
      "source": [
        "# Cumulative Gain\n",
        "cg = np.sum(relevance_score)\n",
        "cg\n"
      ],
      "execution_count": 5,
      "outputs": [
        {
          "output_type": "execute_result",
          "data": {
            "text/plain": [
              "815"
            ]
          },
          "metadata": {},
          "execution_count": 5
        }
      ]
    },
    {
      "cell_type": "code",
      "metadata": {
        "id": "PdyzVcBGkmWD"
      },
      "source": [
        "def dcg_function(score):\n",
        "    \"\"\"\n",
        "      score: np array of relevance score.\n",
        "      returns: Discounted Cumulative Gain, float.\n",
        "    \"\"\"\n",
        "    # Generated the np array of log2([2, 3, ..... n+1])\n",
        "    # x = \"Fill in this blank.\"\n",
        "    # print(np.log2(x))\n",
        "\n",
        "    # Divided the score by log value, sum then return.\n",
        "    # return \"Fill in this blank.\""
      ],
      "execution_count": 10,
      "outputs": []
    },
    {
      "cell_type": "code",
      "metadata": {
        "id": "1s_KnxaFi1rX",
        "colab": {
          "base_uri": "https://localhost:8080/"
        },
        "outputId": "361d26df-4771-4868-e7c5-1ed97cdda64a"
      },
      "source": [
        "# Discounted Cumulative gain\n",
        "dcg = dcg_function(relevance_score)\n",
        "\n",
        "# Ideal Discounted Cumulative gain\n",
        "idcg = dcg_function(ideal_relevance)\n",
        "\n",
        "dcg, idcg\n"
      ],
      "execution_count": 11,
      "outputs": [
        {
          "output_type": "execute_result",
          "data": {
            "text/plain": [
              "(309.435245408772, 358.87745165584965)"
            ]
          },
          "metadata": {},
          "execution_count": 11
        }
      ]
    },
    {
      "cell_type": "code",
      "metadata": {
        "id": "4ujifIA2hcZz",
        "colab": {
          "base_uri": "https://localhost:8080/"
        },
        "outputId": "0aa82a77-9bc3-4754-e3e6-69aeb47cdccf"
      },
      "source": [
        "ndcg = dcg / idcg\n",
        "ndcg\n"
      ],
      "execution_count": 12,
      "outputs": [
        {
          "output_type": "execute_result",
          "data": {
            "text/plain": [
              "0.8622309481441288"
            ]
          },
          "metadata": {},
          "execution_count": 12
        }
      ]
    },
    {
      "cell_type": "markdown",
      "metadata": {
        "id": "wsNkLwIfxcxf"
      },
      "source": [
        "# Compare with package functions value.\n",
        "\n",
        "\n"
      ]
    },
    {
      "cell_type": "code",
      "source": [
        "# Because the \"dcg_score\" function in sklearn takes the ranking position as input, so we cannot use this:\n",
        "# dcg = dcg_score(ideal_relevance, relevance_score)\n",
        "# Instead....\n",
        "\n",
        "order_of_relevance_score = -np.argsort(relevance_score)[:, ::-1] + n\n",
        "\n",
        "order_of_relevance_score, relevance_score, ideal_relevance"
      ],
      "metadata": {
        "colab": {
          "base_uri": "https://localhost:8080/"
        },
        "id": "E8iI7nf00DHv",
        "outputId": "e5fc0cd4-c4a6-4ab6-8815-d2359ba5e6ff"
      },
      "execution_count": 13,
      "outputs": [
        {
          "output_type": "execute_result",
          "data": {
            "text/plain": [
              "(array([[ 5,  3, 20, 18, 16, 17,  1,  4, 13,  7,  9, 14, 11, 19,  2, 12,\n",
              "          8, 15,  6, 10]]),\n",
              " array([[72, 21, 69, 64, 66,  8, 32, 51, 15, 24,  1, 33, 13, 42,  8, 88,\n",
              "         52, 75, 20, 61]]),\n",
              " array([[88, 75, 72, 69, 66, 64, 61, 52, 51, 42, 33, 32, 24, 21, 20, 15,\n",
              "         13,  8,  8,  1]]))"
            ]
          },
          "metadata": {},
          "execution_count": 13
        }
      ]
    },
    {
      "cell_type": "code",
      "metadata": {
        "id": "-UJXAk-cxcxg",
        "colab": {
          "base_uri": "https://localhost:8080/"
        },
        "outputId": "78c40ba1-5f23-40f9-b526-2d348e2f8079"
      },
      "source": [
        "# DCG score \n",
        "\n",
        "dcg = dcg_score(ideal_relevance, order_of_relevance_score) \n",
        "print(\"DCG score : \", dcg) \n",
        "   \n",
        "# IDCG score \n",
        "idcg = dcg_score(ideal_relevance, ideal_relevance) \n",
        "print(\"IDCG score : \", idcg) \n",
        "   \n",
        "# Normalized DCG score \n",
        "ndcg = dcg / idcg\n",
        "print(\"nDCG score : \", ndcg) \n",
        "   \n",
        "# or we can use the scikit-learn ndcg_score package \n",
        "print(\"nDCG score (from package function) : \",\n",
        "      ndcg_score(ideal_relevance, relevance_score)) "
      ],
      "execution_count": 14,
      "outputs": [
        {
          "output_type": "stream",
          "name": "stdout",
          "text": [
            "DCG score :  309.4352454087719\n",
            "IDCG score :  358.87745165584965\n",
            "nDCG score :  0.8622309481441285\n",
            "nDCG score (from package function) :  0.7643687737160236\n"
          ]
        }
      ]
    },
    {
      "cell_type": "markdown",
      "source": [
        "### Answers for the dcg function."
      ],
      "metadata": {
        "id": "LYV5zv8YnVzd"
      }
    },
    {
      "cell_type": "code",
      "source": [
        "def dcg_function(score):\n",
        "    \"\"\"\n",
        "      score: np array of relevance score.\n",
        "      returns: Discounted Cumulative Gain, float.\n",
        "    \"\"\"\n",
        "    # Generated the np array of log2([2, 3, ..... n+1])\n",
        "    x = np.asarray(range(score.shape[-1])) + 2\n",
        "\n",
        "    # Divided the score by log value, sum then return.\n",
        "    return np.sum(score / np.log2(x))"
      ],
      "metadata": {
        "id": "lJELWr48nUv4"
      },
      "execution_count": 15,
      "outputs": []
    }
  ]
}