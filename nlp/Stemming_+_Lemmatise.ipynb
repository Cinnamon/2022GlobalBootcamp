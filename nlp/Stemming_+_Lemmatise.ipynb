{
  "nbformat": 4,
  "nbformat_minor": 0,
  "metadata": {
    "kernelspec": {
      "display_name": "Python 3",
      "language": "python",
      "name": "python3"
    },
    "language_info": {
      "codemirror_mode": {
        "name": "ipython",
        "version": 3
      },
      "file_extension": ".py",
      "mimetype": "text/x-python",
      "name": "python",
      "nbconvert_exporter": "python",
      "pygments_lexer": "ipython3",
      "version": "3.7.4"
    },
    "colab": {
      "name": "Stemming + Lemmatise.ipynb",
      "provenance": [],
      "collapsed_sections": []
    }
  },
  "cells": [
    {
      "cell_type": "code",
      "metadata": {
        "colab": {
          "base_uri": "https://localhost:8080/"
        },
        "id": "MZZ9oNMdoSmS",
        "outputId": "8636dcaf-05d7-454a-d7fd-05e2a884b653"
      },
      "source": [
        "from nltk.stem import WordNetLemmatizer \n",
        "from nltk.stem.porter import PorterStemmer\n",
        "import nltk\n",
        "nltk.download('wordnet')\n",
        "nltk.download('omw-1.4')\n",
        "\n",
        "\n",
        "## resource:https://www.machinelearningplus.com/nlp/lemmatization-examples-python/\n",
        "\n",
        "## Create stemmer & Lemmatizer\n",
        "stemmer=PorterStemmer()\n",
        "lemmatizer = WordNetLemmatizer() "
      ],
      "execution_count": 1,
      "outputs": [
        {
          "output_type": "stream",
          "name": "stderr",
          "text": [
            "[nltk_data] Downloading package wordnet to /root/nltk_data...\n",
            "[nltk_data]   Package wordnet is already up-to-date!\n",
            "[nltk_data] Downloading package omw-1.4 to /root/nltk_data...\n",
            "[nltk_data]   Package omw-1.4 is already up-to-date!\n"
          ]
        }
      ]
    },
    {
      "cell_type": "markdown",
      "metadata": {
        "id": "VVumM-OQoSmW"
      },
      "source": [
        "### Example"
      ]
    },
    {
      "cell_type": "code",
      "metadata": {
        "colab": {
          "base_uri": "https://localhost:8080/"
        },
        "id": "BIEs21hwoSmX",
        "outputId": "8313a7a1-0c42-4119-c49c-4a590b075b06"
      },
      "source": [
        "print('Stemming amusing : {}'.format(stemmer.stem('amusing')))\n",
        "print('lemmatization amusing : {}'.format(lemmatizer.lemmatize('amusing',pos = 'v')))"
      ],
      "execution_count": 2,
      "outputs": [
        {
          "output_type": "stream",
          "name": "stdout",
          "text": [
            "Stemming amusing : amus\n",
            "lemmatization amusing : amuse\n"
          ]
        }
      ]
    },
    {
      "cell_type": "markdown",
      "metadata": {
        "id": "JJB-UnRToSmZ"
      },
      "source": [
        "### Use tokenize + stemming to obtain the root of every word."
      ]
    },
    {
      "cell_type": "code",
      "metadata": {
        "colab": {
          "base_uri": "https://localhost:8080/"
        },
        "id": "YYXSBLEm0Uxk",
        "outputId": "0d46a2a9-3ee1-4c6a-9868-e13a83cc0384"
      },
      "source": [
        "nltk.download('punkt')"
      ],
      "execution_count": 3,
      "outputs": [
        {
          "output_type": "stream",
          "name": "stderr",
          "text": [
            "[nltk_data] Downloading package punkt to /root/nltk_data...\n",
            "[nltk_data]   Package punkt is already up-to-date!\n"
          ]
        },
        {
          "output_type": "execute_result",
          "data": {
            "text/plain": [
              "True"
            ]
          },
          "metadata": {},
          "execution_count": 3
        }
      ]
    },
    {
      "cell_type": "code",
      "metadata": {
        "colab": {
          "base_uri": "https://localhost:8080/"
        },
        "id": "hIpzX0T2oSmZ",
        "outputId": "2206aef6-a05f-44ee-c133-677864ec67c5"
      },
      "source": [
        "# Define the sentence to be lemmatized\n",
        "sentence = \"We went out often, hiding from sight, desperately searching for food.\"\n",
        "\n",
        "# Tokenize: Split the sentence into words\n",
        "word_list = nltk.word_tokenize(sentence)\n",
        "print(word_list)\n",
        "#> ['We', 'went', 'out', 'often', ',', 'hiding', 'from', 'sight', ',', 'desperately', 'searching', 'for', 'food', '.']\n",
        "\n",
        "stemming_output = ' '.join([\"fill_this_blank\" for w in word_list])\n",
        "print(stemming_output)\n",
        "#> We went out often , hide from sight , desper search for food.\n"
      ],
      "execution_count": 4,
      "outputs": [
        {
          "output_type": "stream",
          "name": "stdout",
          "text": [
            "['We', 'went', 'out', 'often', ',', 'hiding', 'from', 'sight', ',', 'desperately', 'searching', 'for', 'food', '.']\n",
            "fill_this_blank fill_this_blank fill_this_blank fill_this_blank fill_this_blank fill_this_blank fill_this_blank fill_this_blank fill_this_blank fill_this_blank fill_this_blank fill_this_blank fill_this_blank fill_this_blank\n"
          ]
        }
      ]
    },
    {
      "cell_type": "markdown",
      "metadata": {
        "id": "jKWIxvj9oSma"
      },
      "source": [
        "### Use tokenize + lemmatize to obtain the lemma of every word."
      ]
    },
    {
      "cell_type": "code",
      "metadata": {
        "colab": {
          "base_uri": "https://localhost:8080/"
        },
        "id": "8l_Wr4p2oSma",
        "outputId": "eb61aee0-4a9c-41bc-d577-2ecc6625cce7"
      },
      "source": [
        "# Define the sentence to be lemmatized\n",
        "sentence = \"We went out often, hiding from sight, desperately searching for food.\"\n",
        "\n",
        "# Tokenize: Split the sentence into words\n",
        "word_list = nltk.word_tokenize(sentence)\n",
        "print(word_list)\n",
        "#> ['We', 'went', 'out', 'often', ',', 'hiding', 'from', 'sight', ',', 'desperately', 'searching', 'for', 'food', '.']\n",
        "\n",
        "# Lemmatize list of words and join\n",
        "lemmatized_output = ' '.join([\"fill_this_blank\" for w in word_list])\n",
        "print(lemmatized_output)\n",
        "#> We went out often , hiding from sight , desperately searching for food ."
      ],
      "execution_count": 17,
      "outputs": [
        {
          "output_type": "stream",
          "name": "stdout",
          "text": [
            "['We', 'went', 'out', 'often', ',', 'hiding', 'from', 'sight', ',', 'desperately', 'searching', 'for', 'food', '.']\n",
            "fill_this_blank fill_this_blank fill_this_blank fill_this_blank fill_this_blank fill_this_blank fill_this_blank fill_this_blank fill_this_blank fill_this_blank fill_this_blank fill_this_blank fill_this_blank fill_this_blank\n"
          ]
        }
      ]
    },
    {
      "cell_type": "markdown",
      "metadata": {
        "id": "6FtjjhaSoSmb"
      },
      "source": [
        "### Sometimes the lemma of a word might change depending to it's Part Of Speech."
      ]
    },
    {
      "cell_type": "code",
      "metadata": {
        "colab": {
          "base_uri": "https://localhost:8080/"
        },
        "id": "T4VgbsCzoSmb",
        "outputId": "2b296614-61e2-42a0-9e61-58ea8ed5dd4f"
      },
      "source": [
        "print('lemmatization amusing : {}'.format(lemmatizer.lemmatize('amusing',pos = 'v'))) ## Verb\n",
        "print('lemmatization amusing : {}'.format(lemmatizer.lemmatize('amusing',pos = 'a'))) ## Adj"
      ],
      "execution_count": 6,
      "outputs": [
        {
          "output_type": "stream",
          "name": "stdout",
          "text": [
            "lemmatization amusing : amuse\n",
            "lemmatization amusing : amusing\n"
          ]
        }
      ]
    },
    {
      "cell_type": "markdown",
      "metadata": {
        "id": "NWYQncr1oSmc"
      },
      "source": [
        "### Use pos_tag + lemmatize to obtain the lemma of every word."
      ]
    },
    {
      "cell_type": "code",
      "metadata": {
        "colab": {
          "base_uri": "https://localhost:8080/"
        },
        "id": "_Mh-STfO0cex",
        "outputId": "b7191162-256b-42e1-bd1d-8c627ba06e08"
      },
      "source": [
        "nltk.download('averaged_perceptron_tagger')"
      ],
      "execution_count": 7,
      "outputs": [
        {
          "output_type": "stream",
          "name": "stderr",
          "text": [
            "[nltk_data] Downloading package averaged_perceptron_tagger to\n",
            "[nltk_data]     /root/nltk_data...\n",
            "[nltk_data]   Unzipping taggers/averaged_perceptron_tagger.zip.\n"
          ]
        },
        {
          "output_type": "execute_result",
          "data": {
            "text/plain": [
              "True"
            ]
          },
          "metadata": {},
          "execution_count": 7
        }
      ]
    },
    {
      "cell_type": "code",
      "metadata": {
        "id": "IKs4YsjIoSmc"
      },
      "source": [
        "# Lemmatize with POS Tag\n",
        "from nltk.corpus import wordnet\n",
        "\n",
        "def get_wordnet_pos(word):\n",
        "    \"\"\"map the pos_tag result to the pos format of the lemmatizer.\"\"\"\n",
        "    tag = nltk.pos_tag([word])[0][1][0].upper()\n",
        "    tag_dict = {\"J\": wordnet.ADJ,\n",
        "                \"N\": wordnet.NOUN,\n",
        "                \"V\": wordnet.VERB,\n",
        "                \"R\": wordnet.ADV}\n",
        "\n",
        "    return tag_dict.get(tag, wordnet.NOUN)\n"
      ],
      "execution_count": 13,
      "outputs": []
    },
    {
      "cell_type": "code",
      "metadata": {
        "colab": {
          "base_uri": "https://localhost:8080/"
        },
        "id": "A3_kwXkfoSmc",
        "outputId": "ce6a7054-76f2-442d-807e-4c2ceb421f74"
      },
      "source": [
        "word = 'using'\n",
        "print(lemmatizer.lemmatize(word, get_wordnet_pos(word)))"
      ],
      "execution_count": 9,
      "outputs": [
        {
          "output_type": "stream",
          "name": "stdout",
          "text": [
            "use\n"
          ]
        }
      ]
    },
    {
      "cell_type": "markdown",
      "metadata": {
        "id": "IVf9aLOwoSmd"
      },
      "source": [
        "### Lemmatize every word in the sentence then add POS tag"
      ]
    },
    {
      "cell_type": "code",
      "metadata": {
        "colab": {
          "base_uri": "https://localhost:8080/"
        },
        "id": "nfVdfZFioSmd",
        "outputId": "9d58b302-7680-4251-c922-f89ffca87d3a"
      },
      "source": [
        "sentence = \"We went out often, hiding from sight, desperately searching for food.\"\n",
        "print(\"\\\"Please fill in this blank.\\\"\")\n",
        "\n",
        "#> ['We', 'go', 'out', 'often', ',', 'hiding', 'from', 'sight', ',', 'desperately', 'search', 'for', 'food', '.']\n"
      ],
      "execution_count": 12,
      "outputs": [
        {
          "output_type": "stream",
          "name": "stdout",
          "text": [
            "\"Please fill in this blank\"\n"
          ]
        }
      ]
    },
    {
      "cell_type": "code",
      "metadata": {
        "id": "zU9ZcBeAoSmd"
      },
      "source": [
        ""
      ],
      "execution_count": null,
      "outputs": []
    }
  ]
}