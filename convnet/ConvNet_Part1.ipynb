{
 "cells": [
  {
   "cell_type": "code",
   "execution_count": 1,
   "metadata": {},
   "outputs": [],
   "source": [
    "import numpy as np\n",
    "import torch\n",
    "import torch.nn as nn\n",
    "import torch.nn.functional as F"
   ]
  },
  {
   "cell_type": "code",
   "execution_count": 20,
   "metadata": {},
   "outputs": [],
   "source": [
    "class BasicConv2d(nn.Module):\n",
    "    def __init__(self, in_planes, out_planes, kernel_size, stride, padding=0):\n",
    "        super(BasicConv2d, self).__init__()\n",
    "        self.conv = nn.Conv2d(\n",
    "            in_planes, out_planes, kernel_size=kernel_size, stride=stride, padding=padding, bias=False)\n",
    "        self.bn = nn.BatchNorm2d(out_planes, eps=0.001)\n",
    "        self.relu = nn.ReLU(inplace=True)\n",
    "        \n",
    "\n",
    "    def forward(self, x):\n",
    "        x = self.conv(x)\n",
    "        x = self.bn(x)\n",
    "        x = self.relu(x)\n",
    "        return x"
   ]
  },
  {
   "cell_type": "markdown",
   "metadata": {},
   "source": [
    "### Calculate Paramters"
   ]
  },
  {
   "cell_type": "code",
   "execution_count": 21,
   "metadata": {},
   "outputs": [
    {
     "name": "stdout",
     "output_type": "stream",
     "text": [
      "params : 1308\n",
      "calculation : 1308\n",
      "\n",
      "\n",
      "params : 1320\n",
      "calculation : 1320\n"
     ]
    }
   ],
   "source": [
    "model = nn.Conv2d(12, 12, kernel_size=(3, 3), stride=1, padding=1, bias=True)\n",
    "model_parameters = filter(lambda p: p.requires_grad, model.parameters())\n",
    "params = sum([np.prod(p.size()) for p in model_parameters])\n",
    "print(f\"params : {params}\")\n",
    "print(f\"calculation : {((3 * 3) * 12 + 1) * 12}\")\n",
    "\n",
    "print(\"\\n\")\n",
    "\n",
    "model = BasicConv2d(12, 12, 3, 1, 1)\n",
    "model_parameters = filter(lambda p: p.requires_grad, model.parameters())\n",
    "params = sum([np.prod(p.size()) for p in model_parameters])\n",
    "print(f\"params : {params}\")\n",
    "print(f\"calculation : {((3 * 3) * 12 ) * 12 + 12 * 2}\")"
   ]
  },
  {
   "cell_type": "code",
   "execution_count": 23,
   "metadata": {},
   "outputs": [
    {
     "name": "stdout",
     "output_type": "stream",
     "text": [
      "----------------------------------------------------------------\n",
      "        Layer (type)               Output Shape         Param #\n",
      "================================================================\n",
      "            Conv2d-1            [1, 12, 32, 32]           1,296\n",
      "       BatchNorm2d-2            [1, 12, 32, 32]              24\n",
      "              ReLU-3            [1, 12, 32, 32]               0\n",
      "================================================================\n",
      "Total params: 1,320\n",
      "Trainable params: 1,320\n",
      "Non-trainable params: 0\n",
      "----------------------------------------------------------------\n",
      "Input size (MB): 0.05\n",
      "Forward/backward pass size (MB): 0.28\n",
      "Params size (MB): 0.01\n",
      "Estimated Total Size (MB): 0.33\n",
      "----------------------------------------------------------------\n"
     ]
    }
   ],
   "source": [
    "from torchsummary import summary\n",
    "summary(model, (12, 32, 32), batch_size=1, device='cpu')"
   ]
  },
  {
   "cell_type": "markdown",
   "metadata": {},
   "source": [
    "## Inception"
   ]
  },
  {
   "cell_type": "markdown",
   "metadata": {},
   "source": [
    "![](assets/inception.png)"
   ]
  },
  {
   "cell_type": "markdown",
   "metadata": {},
   "source": [
    "#### examples"
   ]
  },
  {
   "cell_type": "code",
   "execution_count": 4,
   "metadata": {},
   "outputs": [],
   "source": [
    "class InceptionBlock(nn.Module):\n",
    "    def __init__(self, in_planes: int = 192):\n",
    "        super().__init__()\n",
    "        self.branch1 = BasicConv2d(in_planes, 64, kernel_size=(1, 1), stride=1, padding=0)\n",
    "        self.branch2 = nn.Sequential(\n",
    "            BasicConv2d(in_planes, 96, kernel_size=(1, 1), stride=1, padding=0),\n",
    "            BasicConv2d(96, 128, kernel_size=(3, 3), stride=1, padding=1)\n",
    "        )\n",
    "        self.branch3 = nn.Sequential(\n",
    "            BasicConv2d(in_planes, 16, kernel_size=(1, 1), stride=1, padding=0),\n",
    "            BasicConv2d(16, 32, kernel_size=(5, 5), stride=1, padding=2)\n",
    "        )\n",
    "        self.branch4 = nn.Sequential(\n",
    "            nn.MaxPool2d(kernel_size=(3, 3), stride=1, padding=1),\n",
    "            BasicConv2d(in_planes, 32, kernel_size=(1, 1), stride=1, padding=0)\n",
    "        )\n",
    "\n",
    "    def forward(self, x: torch.Tensor) -> torch.Tensor:\n",
    "        x1 = self.branch1(x)\n",
    "        x2 = self.branch2(x)\n",
    "        x3 = self.branch3(x)\n",
    "        x4 = self.branch4(x)\n",
    "        output = torch.cat((x1, x2, x3, x4), dim=1)\n",
    "        return output \n"
   ]
  },
  {
   "cell_type": "code",
   "execution_count": 5,
   "metadata": {},
   "outputs": [],
   "source": [
    "model = InceptionBlock(192)"
   ]
  },
  {
   "cell_type": "code",
   "execution_count": 6,
   "metadata": {},
   "outputs": [
    {
     "name": "stdout",
     "output_type": "stream",
     "text": [
      "Input shape : torch.Size([4, 192, 28, 28])\n",
      "Output shape : torch.Size([4, 256, 28, 28])\n"
     ]
    }
   ],
   "source": [
    "batch_size = 4\n",
    "features = torch.randn(batch_size, 192, 28, 28)\n",
    "output = model(features)\n",
    "print(f\"Input shape : {features.shape}\\nOutput shape : {output.shape}\")"
   ]
  },
  {
   "cell_type": "markdown",
   "metadata": {},
   "source": [
    "#### practice \n",
    "\n",
    "1. V1\n",
    "    * input_shape = (batch_size, 64, 28, 28)\n",
    "    * output_shape = (batch_size, 128, 28, 28)\n",
    "    * 4 branches, must have kernel (1, 1), (3, 3), (5, 5), (7, 7)\n",
    "\n",
    "\n",
    "2. V3\n",
    "    * input_shape = (batch_size, 64, 28, 28)\n",
    "    * output_shape = (batch_size, 128, 28, 28)\n",
    "    * 4 branches, must have kernel (1, 1), (3, 1), (1, 3), (5, 1), (1, 5)"
   ]
  },
  {
   "cell_type": "code",
   "execution_count": 7,
   "metadata": {},
   "outputs": [],
   "source": [
    "features = torch.randn(batch_size, 64, 28, 28)"
   ]
  },
  {
   "cell_type": "code",
   "execution_count": 8,
   "metadata": {},
   "outputs": [],
   "source": [
    "class MyInceptionBlock(nn.Module):\n",
    "    def __init__(self, in_planes: int = 64):\n",
    "        super().__init__()\n",
    "        self.branch1 = BasicConv2d(in_planes, 32, kernel_size=(1, 1), stride=1, padding=0)\n",
    "        self.branch2 = nn.Sequential(\n",
    "            BasicConv2d(in_planes, 16, kernel_size=(1, 1), stride=1, padding=0),\n",
    "            BasicConv2d(16, 32, kernel_size=(3, 3), stride=1, padding=1)\n",
    "        )\n",
    "        self.branch3 = nn.Sequential(\n",
    "            BasicConv2d(in_planes, 16, kernel_size=(1, 1), stride=1, padding=0),\n",
    "            BasicConv2d(16, 32, kernel_size=(5, 5), stride=1, padding=2)\n",
    "        )\n",
    "        self.branch4 = nn.Sequential(\n",
    "            BasicConv2d(in_planes, 16, kernel_size=(1, 1), stride=1, padding=0),\n",
    "            BasicConv2d(16, 32, kernel_size=(7, 7), stride=1, padding=3)\n",
    "        )\n",
    "\n",
    "    def forward(self, x: torch.Tensor) -> torch.Tensor:\n",
    "        x1 = self.branch1(x)\n",
    "        x2 = self.branch2(x)\n",
    "        x3 = self.branch3(x)\n",
    "        x4 = self.branch4(x)\n",
    "        output = torch.cat((x1, x2, x3, x4), dim=1)\n",
    "        return output"
   ]
  },
  {
   "cell_type": "code",
   "execution_count": 9,
   "metadata": {},
   "outputs": [
    {
     "name": "stdout",
     "output_type": "stream",
     "text": [
      "Input shape : torch.Size([4, 64, 28, 28])\n",
      "Output shape : torch.Size([4, 128, 28, 28])\n"
     ]
    }
   ],
   "source": [
    "model = MyInceptionBlock()\n",
    "output = model(features)\n",
    "print(f\"Input shape : {features.shape}\\nOutput shape : {output.shape}\")"
   ]
  },
  {
   "cell_type": "code",
   "execution_count": 10,
   "metadata": {},
   "outputs": [],
   "source": [
    "class InceptionBlockV3(nn.Module):\n",
    "    def __init__(self, in_planes: int = 64):\n",
    "        super().__init__()\n",
    "        self.branch1 = BasicConv2d(in_planes, 28, kernel_size=(1, 1), stride=1, padding=0)\n",
    "        self.branch2 = nn.Sequential(\n",
    "            nn.MaxPool2d(kernel_size=(3, 3), stride=1, padding=1),\n",
    "            BasicConv2d(in_planes, 20, kernel_size=(1, 1), stride=1, padding=0)\n",
    "        )\n",
    "        self.branch3_1 = nn.Sequential(\n",
    "            BasicConv2d(in_planes, 16, kernel_size=(1, 1), stride=1, padding=0),\n",
    "            BasicConv2d(16, 20, kernel_size=(3, 1), stride=1, padding=(1, 0))\n",
    "        )\n",
    "        self.branch3_2 = nn.Sequential(\n",
    "            BasicConv2d(in_planes, 16, kernel_size=(1, 1), stride=1, padding=0),\n",
    "            BasicConv2d(16, 20, kernel_size=(1, 3), stride=1, padding=(0, 1))\n",
    "        )\n",
    "        self.branch4_0 = nn.Sequential(\n",
    "            BasicConv2d(in_planes, 16, kernel_size=(1, 1), stride=1, padding=0),\n",
    "            BasicConv2d(16, 32, kernel_size=(5, 5), stride=1, padding=2)\n",
    "        )\n",
    "        self.branch4_1 = nn.Sequential(\n",
    "            BasicConv2d(16, 32, kernel_size=(5, 1), stride=1, padding=(2, 0))\n",
    "        )\n",
    "        self.branch4_2 = nn.Sequential(\n",
    "            BasicConv2d(16, 32, kernel_size=(1, 5), stride=1, padding=(0, 2))\n",
    "        )\n",
    "\n",
    "        \n",
    "    def forward(self, x: torch.Tensor) -> torch.Tensor:\n",
    "        x1 = self.branch1(x)\n",
    "        x2 = self.branch2(x)\n",
    "        x3_1 = self.branch3_1(x)\n",
    "        x3_2 = self.branch3_2(x)\n",
    "        x4_0 = self.branch4_0(x)\n",
    "        x4_1 = self.branch4_1(x4_0)\n",
    "        x4_2 = self.branch4_2(x4_0)\n",
    "        output = torch.cat((x1, x2, x3_1, x3_2, x4_1, x4_2), dim=1)\n",
    "        return output "
   ]
  },
  {
   "cell_type": "code",
   "execution_count": 11,
   "metadata": {},
   "outputs": [
    {
     "name": "stdout",
     "output_type": "stream",
     "text": [
      "Input shape : torch.Size([4, 64, 28, 28])\n",
      "Output shape : torch.Size([4, 128, 28, 28])\n"
     ]
    }
   ],
   "source": [
    "model = MyInceptionBlock()\n",
    "output = model(features)\n",
    "print(f\"Input shape : {features.shape}\\nOutput shape : {output.shape}\")"
   ]
  },
  {
   "cell_type": "markdown",
   "metadata": {},
   "source": [
    "---"
   ]
  },
  {
   "cell_type": "markdown",
   "metadata": {},
   "source": [
    "## ResNet - Residual Block"
   ]
  },
  {
   "cell_type": "markdown",
   "metadata": {},
   "source": [
    "![](assets/residual.png)"
   ]
  },
  {
   "cell_type": "markdown",
   "metadata": {},
   "source": [
    "#### examples"
   ]
  },
  {
   "cell_type": "code",
   "execution_count": 12,
   "metadata": {},
   "outputs": [],
   "source": [
    "class ResidualBlock(nn.Module):\n",
    "    def __init__(self, in_planes: int, out_planes: int, stride: int = 1):\n",
    "        super().__init__()\n",
    "        self.conv1 = BasicConv2d(in_planes, out_planes, (3, 3), stride, 1)\n",
    "        self.conv2 = nn.Conv2d(out_planes, out_planes, kernel_size=(3, 3), stride=1, padding=1, bias=False)\n",
    "        self.bn = nn.BatchNorm2d(out_planes)\n",
    "        self.relu = nn.ReLU(inplace=True)\n",
    "        if (in_planes != out_planes) or (stride != 1):\n",
    "            self.map = nn.Conv2d(in_planes, out_planes, kernel_size=(1, 1), stride=stride, padding=0, bias=False)\n",
    "        else:\n",
    "            self.map = nn.Identity()\n",
    "    def forward(self, x: torch.Tensor) -> torch.Tensor:\n",
    "        identity = self.map(x)\n",
    "        x = self.conv1(x)\n",
    "        x = self.conv2(x)\n",
    "        x = self.bn(x)\n",
    "        x += identity\n",
    "        x = self.relu(x)\n",
    "        return x "
   ]
  },
  {
   "cell_type": "code",
   "execution_count": 13,
   "metadata": {},
   "outputs": [],
   "source": [
    "model = ResidualBlock(64, 64, 1)"
   ]
  },
  {
   "cell_type": "code",
   "execution_count": 14,
   "metadata": {},
   "outputs": [
    {
     "name": "stdout",
     "output_type": "stream",
     "text": [
      "Input shape : torch.Size([4, 64, 32, 32])\n",
      "Output shape : torch.Size([4, 64, 32, 32])\n"
     ]
    }
   ],
   "source": [
    "batch_size = 4\n",
    "features = torch.randn(batch_size, 64, 32, 32)\n",
    "output = model(features)\n",
    "print(f\"Input shape : {features.shape}\\nOutput shape : {output.shape}\")"
   ]
  },
  {
   "cell_type": "markdown",
   "metadata": {},
   "source": [
    "#### v2"
   ]
  },
  {
   "cell_type": "markdown",
   "metadata": {},
   "source": [
    "![](assets/r1_r2.png)"
   ]
  },
  {
   "cell_type": "code",
   "execution_count": 15,
   "metadata": {},
   "outputs": [],
   "source": [
    "class ResidualBlockV2(nn.Module):\n",
    "    def __init__(self, in_planes: int, out_planes: int, stride: int = 1):\n",
    "        super().__init__()\n",
    "        squeeze = out_planes // 4\n",
    "        self.conv1 = BasicConv2d(in_planes, squeeze, (1, 1), 1, 0) ## squeeze\n",
    "        self.conv2 = BasicConv2d(squeeze, squeeze, (3, 3), stride=stride, padding=1) ## squeeze\n",
    "        self.conv3 = nn.Conv2d(squeeze, out_planes, (1, 1), 1, 0) ## expand\n",
    "        if (in_planes != out_planes) or (stride != 1):\n",
    "            self.map = nn.Conv2d(in_planes, out_planes, kernel_size=(1, 1), stride=stride, padding=0, bias=False)\n",
    "        else:\n",
    "            self.map = nn.Identity()\n",
    "    def forward(self, x: torch.Tensor) -> torch.Tensor:\n",
    "        identity = self.map(x)\n",
    "        x = self.conv1(x)\n",
    "        x = self.conv2(x)\n",
    "        x = self.conv3(x)\n",
    "        x += identity\n",
    "        return x "
   ]
  },
  {
   "cell_type": "code",
   "execution_count": 16,
   "metadata": {},
   "outputs": [],
   "source": [
    "model = ResidualBlockV2(64, 64, 1)"
   ]
  },
  {
   "cell_type": "code",
   "execution_count": 17,
   "metadata": {},
   "outputs": [
    {
     "name": "stdout",
     "output_type": "stream",
     "text": [
      "Input shape : torch.Size([4, 64, 32, 32])\n",
      "Output shape : torch.Size([4, 64, 32, 32])\n"
     ]
    }
   ],
   "source": [
    "batch_size = 4\n",
    "features = torch.randn(batch_size, 64, 32, 32)\n",
    "output = model(features)\n",
    "print(f\"Input shape : {features.shape}\\nOutput shape : {output.shape}\")"
   ]
  },
  {
   "cell_type": "markdown",
   "metadata": {},
   "source": [
    "#### practice\n",
    "* combine Inception with Residual"
   ]
  },
  {
   "cell_type": "markdown",
   "metadata": {},
   "source": [
    "![](assets/inceptionv4.png)"
   ]
  },
  {
   "cell_type": "code",
   "execution_count": 18,
   "metadata": {},
   "outputs": [],
   "source": [
    "batch_size = 4\n",
    "features = torch.randn(batch_size, 32, 32, 32)"
   ]
  },
  {
   "cell_type": "code",
   "execution_count": 19,
   "metadata": {},
   "outputs": [],
   "source": [
    "class InceptionResBlock(nn.Module):\n",
    "    def __init__(self, in_planes: int, out_planes: int, stride: int = 1):\n",
    "        super().__init__()\n",
    "        self.relu = nn.ReLU(inplace=True)\n",
    "        self.branch1 = BasicConv2d(in_planes, 32, (1, 1), 1, 0)\n",
    "        self.branch2 = nn.Sequential(\n",
    "            BasicConv2d(in_planes, 32, (1, 1), 1),\n",
    "            BasicConv2d(32, 32, (3, 3), 1, 1)\n",
    "        )\n",
    "        self.branch3 = nn.Sequential(\n",
    "            BasicConv2d(in_planes, 32, (1, 1), 1),\n",
    "            BasicConv2d(32, 48, (3, 3), 1, 1),\n",
    "            BasicConv2d(48, 64, (3, 3), 1, 1)\n",
    "        )\n",
    "        self.branch4 = BasicConv2d(128, 384, (1, 1), stride, 0)\n",
    "\n",
    "        if (in_planes != out_planes) or (stride != 1):\n",
    "            self.map = nn.Conv2d(in_planes, out_planes, kernel_size=(1, 1), stride=stride, padding=0, bias=False)\n",
    "        else:\n",
    "            self.map = nn.Identity()\n",
    "\n",
    "    def forward(self, x: torch.Tensor) -> torch.Tensor:\n",
    "        x = self.relu(x)\n",
    "        identity = self.map(x)\n",
    "\n",
    "        x1 = self.branch1(x)\n",
    "        x2 = self.branch2(x)\n",
    "        x3 = self.branch3(x)\n",
    "        x1_3 = torch.cat((x1, x2, x3), dim=1)\n",
    "        x4 = self.branch4(x1_3)\n",
    "\n",
    "        x = identity + x4\n",
    "\n",
    "        output = self.relu(x)\n",
    "        return output "
   ]
  },
  {
   "cell_type": "code",
   "execution_count": 20,
   "metadata": {},
   "outputs": [
    {
     "name": "stdout",
     "output_type": "stream",
     "text": [
      "Input shape : torch.Size([4, 32, 32, 32])\n",
      "Output shape : torch.Size([4, 384, 32, 32])\n"
     ]
    }
   ],
   "source": [
    "model = InceptionResBlock(32, 384)\n",
    "output = model(features)\n",
    "print(f\"Input shape : {features.shape}\\nOutput shape : {output.shape}\")"
   ]
  }
 ],
 "metadata": {
  "kernelspec": {
   "display_name": "basic_env",
   "language": "python",
   "name": "basic_env"
  },
  "language_info": {
   "codemirror_mode": {
    "name": "ipython",
    "version": 3
   },
   "file_extension": ".py",
   "mimetype": "text/x-python",
   "name": "python",
   "nbconvert_exporter": "python",
   "pygments_lexer": "ipython3",
   "version": "3.7.3"
  }
 },
 "nbformat": 4,
 "nbformat_minor": 2
}
